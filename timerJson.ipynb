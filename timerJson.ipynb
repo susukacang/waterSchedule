{
 "cells": [
  {
   "cell_type": "code",
   "execution_count": null,
   "metadata": {},
   "outputs": [],
   "source": [
    "import json\n",
    "timerSum = {\"ch\":{\"su\":{\"p1\":{\"on\":\"10:00\",\"off\":\"10:30\"}}}}\n",
    "outfile=open(\"myfile.json\",\"w\")\n",
    "json.dump(timerSum, outfile, indent=6)\n",
    "\n",
    "t={}\n",
    "for c in range(4):\n",
    "  kc=\"c\"+ str(c)\n",
    "  t[kc]={}\n",
    "  for d in range(7):\n",
    "    kd=\"d\"+str(d)\n",
    "    t[kc][kd]={}\n",
    "    for p in range(4) :\n",
    "      kp=\"p\"+str(p)\n",
    "      t[kc][kd][kp]={\"on\":\"\",\"off\":\"\"}\n",
    "\n",
    "pj = json.dumps(t, indent=4)\n",
    "print(pj)\n",
    "print(t)\n",
    "\n",
    "outfile.close()"
   ]
  },
  {
   "cell_type": "code",
   "execution_count": null,
   "metadata": {},
   "outputs": [],
   "source": [
    "import json\n",
    "f=open('params.json',)\n",
    "data = json.load(f)\n",
    "\n",
    "print(data)\n",
    "# for i in data['ch']:\n",
    "#     print(i)\n",
    "\n",
    "f.close()"
   ]
  },
  {
   "cell_type": "code",
   "execution_count": null,
   "metadata": {},
   "outputs": [],
   "source": [
    "from flask import Flask\n",
    "from flask.templating import render_template\n",
    "app = Flask('app')\n",
    "\n",
    "@app.route('/')\n",
    "def hello_world():\n",
    "  return render_template('hello.html')\n",
    "\n",
    "@app.route('/blogs/<int:blog_id>')\n",
    "def blogs(blog_id):\n",
    "  return render_template('blogs.html', blog_id=blog_id)  \n",
    "  \n",
    "app.run(host='0.0.0.0', port=8080)\n"
   ]
  },
  {
   "cell_type": "code",
   "execution_count": 16,
   "metadata": {},
   "outputs": [
    {
     "name": "stdout",
     "output_type": "stream",
     "text": [
      " * Serving Flask app 'app'\n",
      " * Debug mode: off\n"
     ]
    },
    {
     "name": "stderr",
     "output_type": "stream",
     "text": [
      "\u001b[31m\u001b[1mWARNING: This is a development server. Do not use it in a production deployment. Use a production WSGI server instead.\u001b[0m\n",
      " * Running on all addresses (0.0.0.0)\n",
      " * Running on http://127.0.0.1:8080\n",
      " * Running on http://192.168.1.115:8080\n",
      "\u001b[33mPress CTRL+C to quit\u001b[0m\n",
      "192.168.1.115 - - [16/Nov/2023 15:49:21] \"\u001b[32mGET /schedule HTTP/1.1\u001b[0m\" 302 -\n",
      "192.168.1.115 - - [16/Nov/2023 15:49:21] \"GET / HTTP/1.1\" 200 -\n",
      "192.168.1.115 - - [16/Nov/2023 15:49:21] \"GET /static/css/style.css HTTP/1.1\" 200 -\n",
      "192.168.1.115 - - [16/Nov/2023 15:49:21] \"GET /static/js/script.js HTTP/1.1\" 200 -\n"
     ]
    },
    {
     "name": "stdout",
     "output_type": "stream",
     "text": [
      "ntptime= 1700178561.5488434\n",
      "GET\n"
     ]
    },
    {
     "name": "stderr",
     "output_type": "stream",
     "text": [
      "192.168.1.115 - - [16/Nov/2023 15:49:33] \"GET /get_time HTTP/1.1\" 200 -\n",
      "192.168.1.115 - - [16/Nov/2023 15:49:43] \"GET /get_time HTTP/1.1\" 200 -\n",
      "192.168.1.115 - - [16/Nov/2023 15:49:53] \"GET /get_time HTTP/1.1\" 200 -\n",
      "192.168.1.115 - - [16/Nov/2023 15:50:03] \"GET /get_time HTTP/1.1\" 200 -\n",
      "192.168.1.115 - - [16/Nov/2023 15:50:13] \"GET /get_time HTTP/1.1\" 200 -\n",
      "192.168.1.115 - - [16/Nov/2023 15:50:23] \"GET /get_time HTTP/1.1\" 200 -\n",
      "192.168.1.115 - - [16/Nov/2023 15:50:33] \"GET /get_time HTTP/1.1\" 200 -\n",
      "192.168.1.115 - - [16/Nov/2023 15:50:43] \"GET /get_time HTTP/1.1\" 200 -\n",
      "192.168.1.115 - - [16/Nov/2023 15:50:53] \"GET /get_time HTTP/1.1\" 200 -\n",
      "192.168.1.115 - - [16/Nov/2023 15:51:03] \"GET /get_time HTTP/1.1\" 200 -\n",
      "192.168.1.115 - - [16/Nov/2023 15:51:13] \"GET /get_time HTTP/1.1\" 200 -\n",
      "192.168.1.115 - - [16/Nov/2023 15:51:24] \"GET /get_time HTTP/1.1\" 200 -\n",
      "192.168.1.115 - - [16/Nov/2023 15:51:34] \"GET /get_time HTTP/1.1\" 200 -\n",
      "192.168.1.115 - - [16/Nov/2023 15:51:44] \"GET /get_time HTTP/1.1\" 200 -\n"
     ]
    }
   ],
   "source": [
    "from flask import Flask, render_template, request, jsonify, redirect, url_for\n",
    "import json\n",
    "from random import *\n",
    "from math import *\n",
    "\n",
    "import ntplib\n",
    "from time import ctime\n",
    "\n",
    "def get_ntp_time():\n",
    "    c = ntplib.NTPClient()\n",
    "    try:\n",
    "        response = c.request('pool.ntp.org', version=3)\n",
    "        return response.tx_time\n",
    "    except ntplib.NTPException as e:\n",
    "        print(f\"NTPException: {e}\")\n",
    "        return None\n",
    "\n",
    "app = Flask('app')\n",
    "\n",
    "@app.route('/getTimerSetData')\n",
    "def get_timerSetData():\n",
    "    with open(\"params5.json\") as f:\n",
    "        data = json.load(f)\n",
    "        return data\n",
    "\n",
    "@app.route('/get_time')\n",
    "def request_time():\n",
    "    ntp_time = get_ntp_time()\n",
    "    return jsonify({\"time\": ntp_time})\n",
    "\n",
    "# @app.route('/')\n",
    "# def homepage():\n",
    "#     return render_template(\"form.html\", len=4)\n",
    "\n",
    "@app.route('/data/', methods=['POST','GET'])\n",
    "def data():\n",
    "    if request.method == 'GET':\n",
    "        with open(\"params2.json\") as f:\n",
    "            data = json.load(f)\n",
    "            print(data)\n",
    "            return data\n",
    "        return f\"The URL /data is accessed directly Try going to '/form' to submit form.\"\n",
    "    if request.method == 'POST':\n",
    "        form_data = request.get_json()\n",
    "        print(\"post\")\n",
    "        print(request.get_json())\n",
    "\n",
    "        f = open(\"params2.json\", \"w\")\n",
    "        f.write(json.dumps(request.get_json(), indent=4))\n",
    "        f.close()\n",
    "\n",
    "        return render_template('data.html', form_data=form_data)\n",
    "myform=[]\n",
    "# @app.route('/jsondata/', methods=['GET','POST'])\n",
    "@app.route('/', methods=['GET','POST'])\n",
    "def jsondata():\n",
    "    # ntptime = request_time()\n",
    "    ntp_time = get_ntp_time()\n",
    "    print(\"ntptime=\", ntp_time)\n",
    "    if request.method == 'GET':\n",
    "        print(\"GET\")\n",
    "        # params3.json (old format that worked with populateDataFull). params5.json works with populateDataFull2\n",
    "        with open(\"params5.json\") as f:\n",
    "            jsondata = json.load(f)\n",
    "            # print(jsondata)\n",
    "            return render_template('jsondata.html', jsondata = jsondata, ntp_time = ntp_time)\n",
    "\n",
    "    if request.method == 'POST':\n",
    "        print('POST')\n",
    "\n",
    "        try:\n",
    "            data = request.get_json()\n",
    "            print(data)\n",
    "\n",
    "            with open(\"params5.json\", \"w\") as f:\n",
    "                f.write(json.dumps(request.get_json(), indent=4))\n",
    "\n",
    "            with open(\"params5.json\") as f:\n",
    "                jsondata = json.load(f)\n",
    "                return jsonify(jsondata=jsondata, ntptime=ntp_time)\n",
    "        except Exception as e:\n",
    "            return jsonify({\"message\": str(e)})\n",
    "        print('POST')\n",
    "        myform=request.form\n",
    "        print(request.form)\n",
    "        return '<h1>successfully posted</h1>'\n",
    "\n",
    "@app.route('/getdata')\n",
    "def getdata():\n",
    "    ntp_time = get_ntp_time()\n",
    "    with open(\"params5.json\") as f:\n",
    "        jsondata = json.load(f)\n",
    "        return jsonify(jsondata=jsondata, ntptime = ntp_time)\n",
    "    \n",
    "@app.route('/postdata', methods=['GET','POST'])\n",
    "def postdata():\n",
    "    if request.method == 'POST':\n",
    "        form_data = request.form\n",
    "        print(form_data)\n",
    "        # print(\"post\")\n",
    "        # print(request.get_json())\n",
    "        with open(\"params4.json\", \"w\") as f:\n",
    "            f.write(json.dumps(form_data))\n",
    "        return \"<p>results saved in params4.json</p>\"\n",
    "        \n",
    "@app.route('/generatedata/', methods=['GET'])\n",
    "def generatedata():\n",
    "    data={}\n",
    "    carr = []\n",
    "    for c in range(8):\n",
    "        darr=[]\n",
    "        for d in range(7):\n",
    "            parr=[]\n",
    "            for p in range(4):\n",
    "                parr.append(generateTime())\n",
    "            darr.append(parr)\n",
    "        carr.append(darr)\n",
    "    data[\"data\"] = carr\n",
    "    with open('params3.json',\"w\") as f:\n",
    "        f.write(json.dumps(data))\n",
    "    return \"<p>results generated in params3.json</p>\"\n",
    "\n",
    "@app.route('/schedule', methods=['GET'])\n",
    "@app.route('/timerset', methods=['GET'])\n",
    "def home():\n",
    "    return redirect(url_for('jsondata'))\n",
    "    return redirect(\"http://192.168.1.115:8080/\")\n",
    "\n",
    "def generateTime():\n",
    "    t0 = twoDigit(24) + \":\" + twoDigit(60)\n",
    "    t1 = twoDigit(24) + \":\" + twoDigit(60)\n",
    "    tarr=[]\n",
    "    tarr.append(t0)\n",
    "    tarr.append(t1)\n",
    "    return tarr\n",
    "\n",
    "def twoDigit(r):\n",
    "    t=floor(random()*r)\n",
    "    t=str(int(t))\n",
    "    t=t.zfill(2)\n",
    "    return t\n",
    "\n",
    "app.run(host='0.0.0.0', port=8080)"
   ]
  },
  {
   "cell_type": "code",
   "execution_count": null,
   "metadata": {},
   "outputs": [],
   "source": [
    "def myMap(i):\n",
    "    ii=4*(i-1)\n",
    "    return 1+ii%20+floor(ii/20)\n",
    "\n",
    "for x in range(1,21):\n",
    "    print(f'{x}, {myMap(x)}')"
   ]
  },
  {
   "cell_type": "code",
   "execution_count": null,
   "metadata": {},
   "outputs": [],
   "source": [
    "y=10\n",
    "f'he{y}'\n",
    "'{}'.format(y)\n",
    "for y in range(3):\n",
    "    f'hello {y}'"
   ]
  },
  {
   "cell_type": "code",
   "execution_count": null,
   "metadata": {},
   "outputs": [],
   "source": [
    "from flask import Flask, render_template, jsonify\n",
    "\n",
    "app = Flask('app')\n",
    "mydata=''\n",
    "@app.route('/atticus/')\n",
    "def atticus():\n",
    "    return 'hello atticus'\n",
    "\n",
    "# SPA example 1: https://github.com/praveen-me/simple-vanila-router\n",
    "@app.route('/')\n",
    "def problem1():\n",
    "    return render_template('problem1.html')\n",
    "\n",
    "# SPA example 2: https://github.com/zathio/vanilla-spa\n",
    "@app.route('/spa')\n",
    "def problem2():\n",
    "    return render_template('problem2.html')\n",
    "\n",
    "@app.route('/data/', methods=['GET','POST'])\n",
    "def problem3():\n",
    "    if request.method == 'GET':\n",
    "        return render_template('problem3.html')\n",
    "    try:\n",
    "        data = request.get_json()\n",
    "        print(data)\n",
    "        data2 = {\"message\":\"bye\"}\n",
    "        return jsonify({\"data\": data2})\n",
    "    except Exception as e:\n",
    "        return jsonify({\"message\": str(e)})\n",
    "    print(request.form)\n",
    "    mydata=request.form\n",
    "    return render_template('problem3.html')\n",
    "\n",
    "app.run(host='0.0.0.0', port=8081)"
   ]
  },
  {
   "cell_type": "code",
   "execution_count": null,
   "metadata": {},
   "outputs": [],
   "source": [
    "print(mydata.data)"
   ]
  },
  {
   "cell_type": "code",
   "execution_count": null,
   "metadata": {},
   "outputs": [],
   "source": [
    "print(myform)"
   ]
  },
  {
   "cell_type": "code",
   "execution_count": null,
   "metadata": {},
   "outputs": [],
   "source": [
    "for i in range(100):\n",
    "    print('{} {}' , (i,i*i*i))"
   ]
  },
  {
   "cell_type": "code",
   "execution_count": null,
   "metadata": {},
   "outputs": [],
   "source": [
    "import ntplib\n",
    "from time import ctime\n",
    "c = ntplib.NTPClient()\n",
    "response = c.request('pool.ntp.org', version=3)\n",
    "ctime(response.tx_time)"
   ]
  },
  {
   "cell_type": "code",
   "execution_count": null,
   "metadata": {},
   "outputs": [],
   "source": [
    "import ntplib\n",
    "from time import ctime\n",
    "c = ntplib.NTPClient()\n",
    "response = c.request('pool.ntp.org', version=3)\n",
    "ctime(response.tx_time)"
   ]
  },
  {
   "cell_type": "code",
   "execution_count": null,
   "metadata": {},
   "outputs": [],
   "source": [
    "from math import pi, pow\n",
    "def findM(T,R1,R2):\n",
    "    d=R1+R2\n",
    "    G=6.673e-11 \n",
    "    s=1.991e30  # sun mass, kg\n",
    "    k=pow(2*pi/T*d,2)/G\n",
    "    m1=k*R2\n",
    "    m2=k*R1\n",
    "    return (m1,m2,m1/s,m2/s)\n",
    "\n",
    "T=40*365*24*3600 # 40 years\n",
    "R1=6e11\n",
    "R2=9e11\n",
    "(m1,m2,m1_s,m2_s) = findM(T,R1,R2)\n",
    "print(f'm1={m1:.3e}kg or {m1_s:.3f} solar mass, m2={m2:.3e}kg or {m2_s:.3f} solar mass')"
   ]
  },
  {
   "cell_type": "code",
   "execution_count": null,
   "metadata": {},
   "outputs": [],
   "source": [
    "jsondata= {'timerSetData': {'c1d5p0o0': '13:00', 'c1d5p0o1': '14:00'}}\n",
    "ntptime={'ntptime':'12345'}\n",
    "jsondata.update(ntptime)\n",
    "print(jsondata)"
   ]
  }
 ],
 "metadata": {
  "kernelspec": {
   "display_name": ".venv",
   "language": "python",
   "name": "python3"
  },
  "language_info": {
   "codemirror_mode": {
    "name": "ipython",
    "version": 3
   },
   "file_extension": ".py",
   "mimetype": "text/x-python",
   "name": "python",
   "nbconvert_exporter": "python",
   "pygments_lexer": "ipython3",
   "version": "3.11.5"
  },
  "orig_nbformat": 4,
  "vscode": {
   "interpreter": {
    "hash": "2670765cfe9f244dcff422a9f73fa9134e746d7c069d2806e5ed6dcb364c94c4"
   }
  }
 },
 "nbformat": 4,
 "nbformat_minor": 2
}
